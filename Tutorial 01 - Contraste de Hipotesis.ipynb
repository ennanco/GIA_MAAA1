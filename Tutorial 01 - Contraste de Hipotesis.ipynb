{
 "cells": [
  {
   "cell_type": "markdown",
   "metadata": {},
   "source": [
    "# Contraste de Hipótesis entre Modelos de Machine Learning en Julia\n",
    "\n",
    "## Introducción\n",
    "En este notebook, no pretende ser un manual completo de como realizar un contraste de hipotesis entre diferentes modelos de machine learning. Lo que se puede encontrar es una comparativa de rendimiento de dos modelos. En concreto y para el notebook sea autocontenido se va a emplear una librería bastante conocida para la creación de los modelos como es MLJ y otra que nos dará el apoyo necesario para la ejecución de los contrastes. Tenga en cuenta que lo mismo se puede hacer con Scikit-Learn siempre que se saquen las medidas de rendimiento. \n",
    "\n",
    "## Configuración del entorno\n",
    "Primero de todo vamos a instalar las librerías que nos van a hacer falta\n"
   ]
  },
  {
   "cell_type": "code",
   "execution_count": null,
   "metadata": {
    "vscode": {
     "languageId": "julia"
    }
   },
   "outputs": [],
   "source": [
    "using Pkg;\n",
    "Pkg.add([\"DataFrames\", \"CSV\", \"MLJ\", \"Random\", \"HypothesisTests\", \"Statistics\", \"DecisionTree\", \"MLJDecisionTreeInterface\", \"NearestNeighborModels\"])\n",
    "using DataFrames, CSV, MLJ, Random, HypothesisTests, Statistics\n"
   ]
  },
  {
   "cell_type": "markdown",
   "metadata": {},
   "source": [
    "## Cargar y preparar los datos\n",
    "El siguiente paso es la descarga y definición del problema que se va a emplear, en este caso, se empleará un sencillo problema de clasificación binario.\n"
   ]
  },
  {
   "cell_type": "code",
   "execution_count": null,
   "metadata": {
    "vscode": {
     "languageId": "julia"
    }
   },
   "outputs": [],
   "source": [
    "\n",
    "url = \"https://raw.githubusercontent.com/jbrownlee/Datasets/master/pima-indians-diabetes.data.csv\"\n",
    "data = CSV.File(download(url), header=false) |> DataFrame\n",
    "\n",
    "# Renombramos las columnas para mayor claridad\n",
    "rename!(data, [:num_embarazos, :glucosa, :presion_arterial, :pliegue_cutaneo, :insulina, :indice_masa_corporal, :historia_familiar, :edad, :diabetes])\n",
    "first(data, 5)  # Mostrar las primeras 5 filas del dataset\n"
   ]
  },
  {
   "cell_type": "markdown",
   "metadata": {},
   "source": [
    "## División de los datos en entrenamiento y prueba\n",
    "A continuación se preparan los datos repartiendolos entre entrenamiento y test.\n"
   ]
  },
  {
   "cell_type": "code",
   "execution_count": null,
   "metadata": {
    "vscode": {
     "languageId": "julia"
    }
   },
   "outputs": [],
   "source": [
    "using Random\n",
    "\n",
    "Random.seed!(42)\n",
    "train, test = partition(eachindex(data.diabetes), 0.7, shuffle=true)\n",
    "X_train = data[train, Not(:diabetes)]\n",
    "y_train = categorical(data[train, :diabetes])\n",
    "X_test = data[test, Not(:diabetes)]\n",
    "y_test = categorical(data[test, :diabetes])\n",
    "\n",
    "println(\"El conjunto inicial es \", size(data), \" mientras que el conjunto de entrenamiento es \",size(X_train),\"->\",size(y_train),\n",
    "    \" y el de test es \", size(X_test),\"->\",size(y_test) \n",
    ")"
   ]
  },
  {
   "cell_type": "markdown",
   "metadata": {},
   "source": [
    "\n",
    "## Entrenamiento de los modelos\n",
    "En este caso se van a entrenar dos modelos básicos para comparar su rendimiento el KNN y un árbol de decisión.\n"
   ]
  },
  {
   "cell_type": "code",
   "execution_count": null,
   "metadata": {
    "vscode": {
     "languageId": "julia"
    }
   },
   "outputs": [],
   "source": [
    "\n",
    "DecisionTree = @load DecisionTreeClassifier pkg=DecisionTree\n",
    "KNN = @load KNNClassifier pkg=NearestNeighborModels\n",
    "\n",
    "tree_model = DecisionTree(max_depth=5)\n",
    "knn_model = KNN(K=3)\n",
    "\n",
    "tree_machine = machine(tree_model, X_train, y_train)\n",
    "fit!(tree_machine)\n",
    "knn_machine = machine(knn_model, X_train, y_train)\n",
    "fit!(knn_machine)"
   ]
  },
  {
   "cell_type": "markdown",
   "metadata": {},
   "source": [
    "## Evaluación de los modelos\n",
    "Evaluaremos el rendimiento de ambos modelos en el conjunto de prueba utilizando cross-validation.\n"
   ]
  },
  {
   "cell_type": "code",
   "execution_count": null,
   "metadata": {
    "vscode": {
     "languageId": "julia"
    }
   },
   "outputs": [],
   "source": [
    "# Cross-validation para Árbol de Decisión\n",
    "y_pred_tree = predict_mode(tree_machine, X_test)\n",
    "# Cross-validation para k-NN\n",
    "y_pred_knn = predict_mode(knn_machine, X_test)\n",
    "\n",
    "\n",
    "tree_results = y_pred_tree .== y_test\n",
    "knn_results = y_pred_knn .== y_test\n",
    "\n",
    "# Medir precisión en el conjunto de prueba\n",
    "accuracy_tree = mean(tree_results)\n",
    "accuracy_knn = mean(knn_results)\n",
    "\n",
    "println(\"Precisión en el conjunto de prueba del Árbol de Decisión: \", accuracy_tree)\n",
    "println(\"Precisión en el conjunto de prueba del k-NN: \", accuracy_knn)"
   ]
  },
  {
   "cell_type": "markdown",
   "metadata": {
    "vscode": {
     "languageId": "julia"
    }
   },
   "source": [
    "Si bien estos datos están bien, no nos dan una idea de como de mejor es uno de los modelos respecto del otro. Para poder asegurar con unas ciertas garantias tal cosa es necesario hacer un contraste de hipótesis, para lo cual hace falta más de un experimento como en un cross_validation de 10 como en este caso."
   ]
  },
  {
   "cell_type": "code",
   "execution_count": null,
   "metadata": {},
   "outputs": [],
   "source": [
    "X = data[:, Not(:diabetes)]\n",
    "y = categorical(data[:, :diabetes])\n",
    "\n",
    "tree_machine = machine(tree_model, X, y)\n",
    "knn_machine = machine(tree_model, X, y)\n",
    "\n",
    "results_tree = evaluate!(tree_machine, resampling=CV(nfolds=5, shuffle=true, rng=42),\n",
    "          measure= [Accuracy()])\n",
    "\n",
    "results_knn = evaluate!(knn_machine, resampling=CV(nfolds=5, shuffle=true, rng=42),\n",
    "          measure= [Accuracy()])\n",
    "\n",
    "println(\"Los resultados para cada partición son:\n",
    "    DT = \", results_tree.per_fold, \"\n",
    "    KNN= \", results_knn. per_fold)"
   ]
  },
  {
   "cell_type": "markdown",
   "metadata": {
    "vscode": {
     "languageId": "julia"
    }
   },
   "source": [
    "## Contraste de hipótesis\n",
    "\n",
    "El rendimiento de comparar varios modelos de machine learning utilizando tanto un test t de Student como un test de Mann-Whitney. Usaremos un conjunto de datos de ejemplo y dos modelos de clasificación. El objetivo es determinar si hay una diferencia significativa en el rendimiento de los modelos.\n",
    "\n",
    "### Test t de Student\n",
    "Compararemos las medias de las exactitudes de los dos modelos usando un test t."
   ]
  },
  {
   "cell_type": "code",
   "execution_count": null,
   "metadata": {
    "vscode": {
     "languageId": "julia"
    }
   },
   "outputs": [],
   "source": [
    "using HypothesisTests;\n",
    "t_test_result = OneSampleTTest(results_tree.per_fold[1], results_knn.per_fold[1])\n",
    "println(\"Resultado del test: p-valor = \", pvalue(t_test_result))"
   ]
  },
  {
   "cell_type": "markdown",
   "metadata": {
    "vscode": {
     "languageId": "julia"
    }
   },
   "source": [
    "En este caso nos diría que ambas medias son iguales. \n",
    "\n",
    "### Test de Mann-Whitney\n",
    "Este test no paramétrico se utiliza para comparar muestras independientes. Compara las medianas y no es paramétrico, es decir no asume la normalidad en las distribuciones. En este caso es aun menos potente en la detecciónd e diferencias pero nos servirá para ver ejemplo\n"
   ]
  },
  {
   "cell_type": "code",
   "execution_count": null,
   "metadata": {
    "vscode": {
     "languageId": "julia"
    }
   },
   "outputs": [],
   "source": [
    "kruskal_result = ApproximateMannWhitneyUTest(results_tree.per_fold[1], results_knn.per_fold[1])\n",
    "println(\"Resultado del test: p-valor = \", pvalue(kruskal_result))"
   ]
  },
  {
   "cell_type": "code",
   "execution_count": null,
   "metadata": {},
   "outputs": [],
   "source": []
  }
 ],
 "metadata": {
  "@webio": {
   "lastCommId": null,
   "lastKernelId": null
  },
  "kernelspec": {
   "display_name": "Julia 1.10.0",
   "language": "julia",
   "name": "julia-1.10"
  },
  "language_info": {
   "file_extension": ".jl",
   "mimetype": "application/julia",
   "name": "julia",
   "version": "1.10.0"
  }
 },
 "nbformat": 4,
 "nbformat_minor": 4
}
